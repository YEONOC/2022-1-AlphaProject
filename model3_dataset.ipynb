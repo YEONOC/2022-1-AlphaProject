{
  "nbformat": 4,
  "nbformat_minor": 0,
  "metadata": {
    "colab": {
      "provenance": [],
      "authorship_tag": "ABX9TyN0w8UlPcElS0l1dd6PATSF",
      "include_colab_link": true
    },
    "kernelspec": {
      "name": "python3",
      "display_name": "Python 3"
    },
    "language_info": {
      "name": "python"
    }
  },
  "cells": [
    {
      "cell_type": "markdown",
      "metadata": {
        "id": "view-in-github",
        "colab_type": "text"
      },
      "source": [
        "<a href=\"https://colab.research.google.com/github/YEONOC/2022-1-AlphaProject/blob/main/model3_dataset.ipynb\" target=\"_parent\"><img src=\"https://colab.research.google.com/assets/colab-badge.svg\" alt=\"Open In Colab\"/></a>"
      ]
    },
    {
      "cell_type": "code",
      "execution_count": null,
      "metadata": {
        "id": "N4nu-hLRuvLV"
      },
      "outputs": [],
      "source": [
        "data = pd.read_csv('/content/drive/MyDrive/asset/train_data/한국어_연속적_대화_데이터_50000.csv')\n",
        "data = data[['']]"
      ]
    }
  ]
}